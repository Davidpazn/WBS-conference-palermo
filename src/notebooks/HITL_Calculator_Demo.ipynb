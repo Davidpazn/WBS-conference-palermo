{
 "cells": [
  {
   "cell_type": "markdown",
   "metadata": {},
   "source": [
    "# Human-in-the-Loop Calculator with LangGraph\n",
    "\n",
    "This notebook demonstrates a HITL workflow using LangGraph where:\n",
    "- An LLM processes user questions\n",
    "- Detects when calculator tool is needed\n",
    "- Asks human for approval before executing the tool\n",
    "- Returns results to the user"
   ]
  },
  {
   "cell_type": "markdown",
   "metadata": {},
   "source": [
    "## 1. Setup and Imports"
   ]
  },
  {
   "cell_type": "code",
   "execution_count": 1,
   "metadata": {},
   "outputs": [
    {
     "name": "stdout",
     "output_type": "stream",
     "text": [
      "Requirement already satisfied: langgraph in /home/david/anaconda3/envs/ai-agents-demo/lib/python3.12/site-packages (0.6.7)\n",
      "Requirement already satisfied: langchain in /home/david/anaconda3/envs/ai-agents-demo/lib/python3.12/site-packages (0.3.27)\n",
      "Requirement already satisfied: langchain-openai in /home/david/anaconda3/envs/ai-agents-demo/lib/python3.12/site-packages (0.3.33)\n",
      "Requirement already satisfied: pydantic in /home/david/anaconda3/envs/ai-agents-demo/lib/python3.12/site-packages (2.11.9)\n",
      "Requirement already satisfied: python-dotenv in /home/david/anaconda3/envs/ai-agents-demo/lib/python3.12/site-packages (1.0.1)\n",
      "Requirement already satisfied: langchain-core>=0.1 in /home/david/anaconda3/envs/ai-agents-demo/lib/python3.12/site-packages (from langgraph) (0.3.76)\n",
      "Requirement already satisfied: langgraph-checkpoint<3.0.0,>=2.1.0 in /home/david/anaconda3/envs/ai-agents-demo/lib/python3.12/site-packages (from langgraph) (2.1.1)\n",
      "Requirement already satisfied: langgraph-prebuilt<0.7.0,>=0.6.0 in /home/david/anaconda3/envs/ai-agents-demo/lib/python3.12/site-packages (from langgraph) (0.6.4)\n",
      "Requirement already satisfied: langgraph-sdk<0.3.0,>=0.2.2 in /home/david/anaconda3/envs/ai-agents-demo/lib/python3.12/site-packages (from langgraph) (0.2.8)\n",
      "Requirement already satisfied: xxhash>=3.5.0 in /home/david/anaconda3/envs/ai-agents-demo/lib/python3.12/site-packages (from langgraph) (3.5.0)\n",
      "Requirement already satisfied: langchain-text-splitters<1.0.0,>=0.3.9 in /home/david/anaconda3/envs/ai-agents-demo/lib/python3.12/site-packages (from langchain) (0.3.11)\n",
      "Requirement already satisfied: langsmith>=0.1.17 in /home/david/anaconda3/envs/ai-agents-demo/lib/python3.12/site-packages (from langchain) (0.4.29)\n",
      "Requirement already satisfied: SQLAlchemy<3,>=1.4 in /home/david/anaconda3/envs/ai-agents-demo/lib/python3.12/site-packages (from langchain) (2.0.43)\n",
      "Requirement already satisfied: requests<3,>=2 in /home/david/anaconda3/envs/ai-agents-demo/lib/python3.12/site-packages (from langchain) (2.32.5)\n",
      "Requirement already satisfied: PyYAML>=5.3 in /home/david/anaconda3/envs/ai-agents-demo/lib/python3.12/site-packages (from langchain) (6.0.2)\n",
      "Requirement already satisfied: openai<2.0.0,>=1.104.2 in /home/david/anaconda3/envs/ai-agents-demo/lib/python3.12/site-packages (from langchain-openai) (1.108.1)\n",
      "Requirement already satisfied: tiktoken<1,>=0.7 in /home/david/anaconda3/envs/ai-agents-demo/lib/python3.12/site-packages (from langchain-openai) (0.11.0)\n",
      "Requirement already satisfied: annotated-types>=0.6.0 in /home/david/anaconda3/envs/ai-agents-demo/lib/python3.12/site-packages (from pydantic) (0.7.0)\n",
      "Requirement already satisfied: pydantic-core==2.33.2 in /home/david/anaconda3/envs/ai-agents-demo/lib/python3.12/site-packages (from pydantic) (2.33.2)\n",
      "Requirement already satisfied: typing-extensions>=4.12.2 in /home/david/anaconda3/envs/ai-agents-demo/lib/python3.12/site-packages (from pydantic) (4.15.0)\n",
      "Requirement already satisfied: typing-inspection>=0.4.0 in /home/david/anaconda3/envs/ai-agents-demo/lib/python3.12/site-packages (from pydantic) (0.4.1)\n",
      "Requirement already satisfied: tenacity!=8.4.0,<10.0.0,>=8.1.0 in /home/david/anaconda3/envs/ai-agents-demo/lib/python3.12/site-packages (from langchain-core>=0.1->langgraph) (9.1.2)\n",
      "Requirement already satisfied: jsonpatch<2.0,>=1.33 in /home/david/anaconda3/envs/ai-agents-demo/lib/python3.12/site-packages (from langchain-core>=0.1->langgraph) (1.33)\n",
      "Requirement already satisfied: packaging>=23.2 in /home/david/anaconda3/envs/ai-agents-demo/lib/python3.12/site-packages (from langchain-core>=0.1->langgraph) (25.0)\n",
      "Requirement already satisfied: ormsgpack>=1.10.0 in /home/david/anaconda3/envs/ai-agents-demo/lib/python3.12/site-packages (from langgraph-checkpoint<3.0.0,>=2.1.0->langgraph) (1.10.0)\n",
      "Requirement already satisfied: httpx>=0.25.2 in /home/david/anaconda3/envs/ai-agents-demo/lib/python3.12/site-packages (from langgraph-sdk<0.3.0,>=0.2.2->langgraph) (0.28.1)\n",
      "Requirement already satisfied: orjson>=3.10.1 in /home/david/anaconda3/envs/ai-agents-demo/lib/python3.12/site-packages (from langgraph-sdk<0.3.0,>=0.2.2->langgraph) (3.11.3)\n",
      "Requirement already satisfied: requests-toolbelt>=1.0.0 in /home/david/anaconda3/envs/ai-agents-demo/lib/python3.12/site-packages (from langsmith>=0.1.17->langchain) (1.0.0)\n",
      "Requirement already satisfied: zstandard>=0.23.0 in /home/david/anaconda3/envs/ai-agents-demo/lib/python3.12/site-packages (from langsmith>=0.1.17->langchain) (0.25.0)\n",
      "Requirement already satisfied: anyio<5,>=3.5.0 in /home/david/anaconda3/envs/ai-agents-demo/lib/python3.12/site-packages (from openai<2.0.0,>=1.104.2->langchain-openai) (4.10.0)\n",
      "Requirement already satisfied: distro<2,>=1.7.0 in /home/david/anaconda3/envs/ai-agents-demo/lib/python3.12/site-packages (from openai<2.0.0,>=1.104.2->langchain-openai) (1.9.0)\n",
      "Requirement already satisfied: jiter<1,>=0.4.0 in /home/david/anaconda3/envs/ai-agents-demo/lib/python3.12/site-packages (from openai<2.0.0,>=1.104.2->langchain-openai) (0.11.0)\n",
      "Requirement already satisfied: sniffio in /home/david/anaconda3/envs/ai-agents-demo/lib/python3.12/site-packages (from openai<2.0.0,>=1.104.2->langchain-openai) (1.3.1)\n",
      "Requirement already satisfied: tqdm>4 in /home/david/anaconda3/envs/ai-agents-demo/lib/python3.12/site-packages (from openai<2.0.0,>=1.104.2->langchain-openai) (4.67.1)\n",
      "Requirement already satisfied: charset_normalizer<4,>=2 in /home/david/anaconda3/envs/ai-agents-demo/lib/python3.12/site-packages (from requests<3,>=2->langchain) (3.4.3)\n",
      "Requirement already satisfied: idna<4,>=2.5 in /home/david/anaconda3/envs/ai-agents-demo/lib/python3.12/site-packages (from requests<3,>=2->langchain) (3.10)\n",
      "Requirement already satisfied: urllib3<3,>=1.21.1 in /home/david/anaconda3/envs/ai-agents-demo/lib/python3.12/site-packages (from requests<3,>=2->langchain) (2.5.0)\n",
      "Requirement already satisfied: certifi>=2017.4.17 in /home/david/anaconda3/envs/ai-agents-demo/lib/python3.12/site-packages (from requests<3,>=2->langchain) (2025.8.3)\n",
      "Requirement already satisfied: greenlet>=1 in /home/david/anaconda3/envs/ai-agents-demo/lib/python3.12/site-packages (from SQLAlchemy<3,>=1.4->langchain) (3.2.4)\n",
      "Requirement already satisfied: regex>=2022.1.18 in /home/david/anaconda3/envs/ai-agents-demo/lib/python3.12/site-packages (from tiktoken<1,>=0.7->langchain-openai) (2025.9.18)\n",
      "Requirement already satisfied: httpcore==1.* in /home/david/anaconda3/envs/ai-agents-demo/lib/python3.12/site-packages (from httpx>=0.25.2->langgraph-sdk<0.3.0,>=0.2.2->langgraph) (1.0.9)\n",
      "Requirement already satisfied: h11>=0.16 in /home/david/anaconda3/envs/ai-agents-demo/lib/python3.12/site-packages (from httpcore==1.*->httpx>=0.25.2->langgraph-sdk<0.3.0,>=0.2.2->langgraph) (0.16.0)\n",
      "Requirement already satisfied: jsonpointer>=1.9 in /home/david/anaconda3/envs/ai-agents-demo/lib/python3.12/site-packages (from jsonpatch<2.0,>=1.33->langchain-core>=0.1->langgraph) (3.0.0)\n"
     ]
    }
   ],
   "source": [
    "# Install required packages if needed\n",
    "!pip install langgraph langchain langchain-openai pydantic python-dotenv"
   ]
  },
  {
   "cell_type": "code",
   "execution_count": 2,
   "metadata": {},
   "outputs": [
    {
     "name": "stdout",
     "output_type": "stream",
     "text": [
      "✅ Loaded environment from /home/david/WBS-conference-palermo/src/infra/.env\n",
      "✅ Imports successful\n"
     ]
    }
   ],
   "source": [
    "import os\n",
    "import json\n",
    "import operator\n",
    "from typing import TypedDict, Annotated, Sequence, Literal, Optional, Dict, Any, List\n",
    "from enum import Enum\n",
    "from datetime import datetime\n",
    "from pathlib import Path\n",
    "\n",
    "from pydantic import BaseModel, Field\n",
    "from langchain_core.messages import BaseMessage, HumanMessage, AIMessage, SystemMessage, ToolMessage\n",
    "from langchain_openai import ChatOpenAI\n",
    "from langchain_core.tools import tool\n",
    "from langgraph.graph import StateGraph, END\n",
    "from langgraph.prebuilt import ToolNode\n",
    "from langgraph.checkpoint.memory import MemorySaver\n",
    "from langgraph.graph.message import add_messages\n",
    "from IPython.display import display, Markdown, clear_output\n",
    "import time\n",
    "\n",
    "# Load environment variables early\n",
    "try:\n",
    "    from dotenv import load_dotenv\n",
    "    # Load from multiple possible locations\n",
    "    env_files = [\n",
    "        Path.cwd().parent / \"infra/.env\",  # Use src_path to find infra\n",
    "        Path.cwd() / \".env\",\n",
    "        Path.cwd().parent / \".env\", \n",
    "        Path.home() / \"agents-app\"\n",
    "    ]\n",
    "    for env_file in env_files:\n",
    "        if env_file.exists():\n",
    "            load_dotenv(env_file, override=False)\n",
    "            print(f\"✅ Loaded environment from {env_file}\")\n",
    "            break\n",
    "    else:\n",
    "        print(\"⚠️ No .env file found in expected locations\")\n",
    "except ImportError:\n",
    "    print(\"⚠️ python-dotenv not available, using system environment\")\n",
    "\n",
    "# Load environment variables\n",
    "from dotenv import load_dotenv\n",
    "load_dotenv()\n",
    "\n",
    "print(\"✅ Imports successful\")"
   ]
  },
  {
   "cell_type": "markdown",
   "metadata": {},
   "source": [
    "## 2. Define State Model (Pydantic v2)"
   ]
  },
  {
   "cell_type": "code",
   "execution_count": 3,
   "metadata": {},
   "outputs": [
    {
     "name": "stdout",
     "output_type": "stream",
     "text": [
      "✅ State model defined\n"
     ]
    }
   ],
   "source": [
    "class ToolCall(BaseModel):\n",
    "    \"\"\"Represents a tool call request\"\"\"\n",
    "    tool_name: str = Field(description=\"Name of the tool to call\")\n",
    "    arguments: Dict[str, Any] = Field(description=\"Arguments for the tool\")\n",
    "    \n",
    "class HumanApproval(BaseModel):\n",
    "    \"\"\"Human approval for tool execution\"\"\"\n",
    "    approved: bool = Field(description=\"Whether the tool execution is approved\")\n",
    "    reason: Optional[str] = Field(default=None, description=\"Reason for approval/rejection\")\n",
    "\n",
    "class GraphState(TypedDict):\n",
    "    \"\"\"State for the HITL calculator graph\"\"\"\n",
    "    messages: Annotated[Sequence[BaseMessage], add_messages]\n",
    "    user_query: str\n",
    "    pending_tool_call: Optional[Dict[str, Any]]\n",
    "    human_approval: Optional[Dict[str, Any]]\n",
    "    result: Optional[str]\n",
    "    cost: Optional[float]\n",
    "    \n",
    "print(\"✅ State model defined\")"
   ]
  },
  {
   "cell_type": "markdown",
   "metadata": {},
   "source": [
    "## 3. Implement Calculator Tool"
   ]
  },
  {
   "cell_type": "code",
   "execution_count": 4,
   "metadata": {},
   "outputs": [
    {
     "name": "stdout",
     "output_type": "stream",
     "text": [
      "Calculator test:\n",
      "The result of 2 + 2 is 4\n",
      "The result of 15 * 3.5 is 52.5\n",
      "✅ Calculator tool implemented\n"
     ]
    }
   ],
   "source": [
    "@tool\n",
    "def calculator(expression: str) -> str:\n",
    "    \"\"\"Evaluate a mathematical expression.\n",
    "    \n",
    "    Args:\n",
    "        expression: A mathematical expression to evaluate (e.g., '2 + 2', '10 * 5', '100 / 4')\n",
    "    \n",
    "    Returns:\n",
    "        The result of the calculation as a string\n",
    "    \"\"\"\n",
    "    try:\n",
    "        # Safe evaluation of mathematical expressions\n",
    "        # Only allow basic math operations\n",
    "        allowed_chars = \"0123456789+-*/()., \"\n",
    "        if not all(c in allowed_chars for c in expression):\n",
    "            return f\"Error: Invalid characters in expression. Only numbers and basic operators allowed.\"\n",
    "        \n",
    "        result = eval(expression)\n",
    "        return f\"The result of {expression} is {result}\"\n",
    "    except Exception as e:\n",
    "        return f\"Error evaluating expression: {str(e)}\"\n",
    "\n",
    "# Test the calculator\n",
    "print(\"Calculator test:\")\n",
    "print(calculator.invoke({\"expression\": \"2 + 2\"}))\n",
    "print(calculator.invoke({\"expression\": \"15 * 3.5\"}))\n",
    "print(\"✅ Calculator tool implemented\")"
   ]
  },
  {
   "cell_type": "markdown",
   "metadata": {},
   "source": [
    "## 4. Create LangGraph Nodes"
   ]
  },
  {
   "cell_type": "code",
   "execution_count": 5,
   "metadata": {},
   "outputs": [
    {
     "name": "stdout",
     "output_type": "stream",
     "text": [
      "✅ Nodes created\n"
     ]
    }
   ],
   "source": [
    "# Initialize the LLM with tool binding\n",
    "llm = ChatOpenAI(\n",
    "    model=\"gpt-4o-mini\",\n",
    "    temperature=0,\n",
    "    openai_api_key=os.getenv(\"OPENAI_API_KEY\")\n",
    ")\n",
    "\n",
    "# Bind the calculator tool to the LLM\n",
    "tools = [calculator]\n",
    "llm_with_tools = llm.bind_tools(tools)\n",
    "\n",
    "def process_query(state: GraphState) -> GraphState:\n",
    "    \"\"\"Process the user query and determine if calculator is needed\"\"\"\n",
    "    messages = state[\"messages\"]\n",
    "    \n",
    "    # Get LLM response with potential tool calls\n",
    "    response = llm_with_tools.invoke(messages)\n",
    "    \n",
    "    # Check if the LLM wants to use a tool\n",
    "    if response.tool_calls:\n",
    "        tool_call = response.tool_calls[0]\n",
    "        state[\"pending_tool_call\"] = {\n",
    "            \"name\": tool_call[\"name\"],\n",
    "            \"args\": tool_call[\"args\"],\n",
    "            \"id\": tool_call[\"id\"]\n",
    "        }\n",
    "    \n",
    "    return {\n",
    "        \"messages\": [response],\n",
    "        \"pending_tool_call\": state.get(\"pending_tool_call\")\n",
    "    }\n",
    "\n",
    "def human_review(state: GraphState) -> GraphState:\n",
    "    \"\"\"Get human approval for tool execution\"\"\"\n",
    "    tool_call = state[\"pending_tool_call\"]\n",
    "    \n",
    "    if not tool_call:\n",
    "        return state\n",
    "    \n",
    "    # Display tool call for review\n",
    "    clear_output(wait=True)\n",
    "    display(Markdown(\"### 🤖 Tool Execution Request\"))\n",
    "    display(Markdown(f\"**Tool:** {tool_call['name']}\"))\n",
    "    display(Markdown(f\"**Arguments:** {tool_call['args']}\"))\n",
    "    display(Markdown(\"---\"))\n",
    "    \n",
    "    # Get user input\n",
    "    approval = input(\"Do you approve this tool execution? (yes/no): \").strip().lower()\n",
    "    \n",
    "    approved = approval in ['yes', 'y']\n",
    "    reason = None\n",
    "    \n",
    "    if not approved:\n",
    "        reason = input(\"Reason for rejection (optional): \").strip() or \"User rejected\"\n",
    "    \n",
    "    state[\"human_approval\"] = {\n",
    "        \"approved\": approved,\n",
    "        \"reason\": reason\n",
    "    }\n",
    "    \n",
    "    return state\n",
    "\n",
    "def execute_tool(state: GraphState) -> GraphState:\n",
    "    \"\"\"Execute the approved tool\"\"\"\n",
    "    tool_call = state[\"pending_tool_call\"]\n",
    "    approval = state[\"human_approval\"]\n",
    "\n",
    "    if not approval[\"approved\"]:\n",
    "        # Tool execution was rejected - create a fake tool message to satisfy the API\n",
    "        rejection_msg = f\"Tool execution was rejected by the user: {approval['reason']}\"\n",
    "        tool_message = ToolMessage(\n",
    "            content=rejection_msg,\n",
    "            tool_call_id=tool_call[\"id\"]\n",
    "        )\n",
    "        return {\n",
    "            \"messages\": [tool_message],\n",
    "            \"result\": rejection_msg\n",
    "        }\n",
    "\n",
    "    # Execute the calculator tool\n",
    "    result = calculator.invoke(tool_call[\"args\"])\n",
    "\n",
    "    # Create tool message\n",
    "    tool_message = ToolMessage(\n",
    "        content=result,\n",
    "        tool_call_id=tool_call[\"id\"]\n",
    "    )\n",
    "\n",
    "    return {\n",
    "        \"messages\": [tool_message],\n",
    "        \"result\": result\n",
    "    }\n",
    "\n",
    "def generate_final_response(state: GraphState) -> GraphState:\n",
    "    \"\"\"Generate the final response after tool execution\"\"\"\n",
    "    messages = state[\"messages\"]\n",
    "\n",
    "    # Check if we have a pending tool call without human approval (shouldn't happen but safe check)\n",
    "    if state.get(\"pending_tool_call\") and not state.get(\"human_approval\"):\n",
    "        # Skip tool execution and provide direct response\n",
    "        response = AIMessage(content=\"I can help with that calculation, but I need your approval to use the calculator tool.\")\n",
    "        return {\n",
    "            \"messages\": [response],\n",
    "            \"result\": response.content\n",
    "        }\n",
    "\n",
    "    # Get final response from LLM\n",
    "    response = llm.invoke(messages)\n",
    "\n",
    "    return {\n",
    "        \"messages\": [response],\n",
    "        \"result\": response.content\n",
    "    }\n",
    "\n",
    "print(\"✅ Nodes created\")"
   ]
  },
  {
   "cell_type": "markdown",
   "metadata": {},
   "source": [
    "## 5. Build the Graph"
   ]
  },
  {
   "cell_type": "code",
   "execution_count": 6,
   "metadata": {},
   "outputs": [
    {
     "name": "stdout",
     "output_type": "stream",
     "text": [
      "✅ Graph compiled successfully\n"
     ]
    },
    {
     "data": {
      "image/png": "[encoded data removed]",
      "text/plain": [
       "<IPython.core.display.Image object>"
      ]
     },
     "metadata": {},
     "output_type": "display_data"
    }
   ],
   "source": [
    "def should_ask_human(state: GraphState) -> Literal[\"human_review\", \"generate_final_response\"]:\n",
    "    \"\"\"Determine if human review is needed\"\"\"\n",
    "    if state.get(\"pending_tool_call\"):\n",
    "        return \"human_review\"\n",
    "    return \"generate_final_response\"\n",
    "\n",
    "def should_execute_tool(state: GraphState) -> Literal[\"execute_tool\", \"generate_final_response\"]:\n",
    "    \"\"\"Determine if tool should be executed\"\"\"\n",
    "    approval = state.get(\"human_approval\")\n",
    "    if approval:\n",
    "        return \"execute_tool\"\n",
    "    return \"generate_final_response\"\n",
    "\n",
    "# Build the graph\n",
    "workflow = StateGraph(GraphState)\n",
    "\n",
    "# Add nodes\n",
    "workflow.add_node(\"process_query\", process_query)\n",
    "workflow.add_node(\"human_review\", human_review)\n",
    "workflow.add_node(\"execute_tool\", execute_tool)\n",
    "workflow.add_node(\"generate_final_response\", generate_final_response)\n",
    "\n",
    "# Set entry point\n",
    "workflow.set_entry_point(\"process_query\")\n",
    "\n",
    "# Add edges\n",
    "workflow.add_conditional_edges(\n",
    "    \"process_query\",\n",
    "    should_ask_human,\n",
    "    {\n",
    "        \"human_review\": \"human_review\",\n",
    "        \"generate_final_response\": \"generate_final_response\"\n",
    "    }\n",
    ")\n",
    "\n",
    "workflow.add_conditional_edges(\n",
    "    \"human_review\",\n",
    "    should_execute_tool,\n",
    "    {\n",
    "        \"execute_tool\": \"execute_tool\",\n",
    "        \"generate_final_response\": \"generate_final_response\"\n",
    "    }\n",
    ")\n",
    "\n",
    "workflow.add_edge(\"execute_tool\", \"generate_final_response\")\n",
    "workflow.add_edge(\"generate_final_response\", END)\n",
    "\n",
    "# Compile with memory\n",
    "memory = MemorySaver()\n",
    "app = workflow.compile(checkpointer=memory)\n",
    "\n",
    "print(\"✅ Graph compiled successfully\")\n",
    "\n",
    "# Visualize the graph (optional)\n",
    "try:\n",
    "    from IPython.display import Image\n",
    "    display(Image(app.get_graph().draw_mermaid_png()))\n",
    "except Exception as e:\n",
    "    print(f\"Could not display graph: {e}\")"
   ]
  },
  {
   "cell_type": "markdown",
   "metadata": {},
   "source": [
    "## 6. Helper Functions"
   ]
  },
  {
   "cell_type": "code",
   "execution_count": 7,
   "metadata": {},
   "outputs": [
    {
     "name": "stdout",
     "output_type": "stream",
     "text": [
      "✅ Helper functions ready\n"
     ]
    }
   ],
   "source": [
    "def run_calculator_assistant(query: str, thread_id: str = \"default\"):\n",
    "    \"\"\"Run the HITL calculator assistant\"\"\"\n",
    "    \n",
    "    # Initialize state\n",
    "    initial_state = {\n",
    "        \"messages\": [\n",
    "            SystemMessage(content=\"You are a helpful assistant with access to a calculator. When the user asks a math question, use the calculator tool to help them.\"),\n",
    "            HumanMessage(content=query)\n",
    "        ],\n",
    "        \"user_query\": query,\n",
    "        \"pending_tool_call\": None,\n",
    "        \"human_approval\": None,\n",
    "        \"result\": None,\n",
    "        \"cost\": None\n",
    "    }\n",
    "    \n",
    "    # Configuration\n",
    "    config = {\n",
    "        \"configurable\": {\n",
    "            \"thread_id\": thread_id\n",
    "        }\n",
    "    }\n",
    "    \n",
    "    # Run the graph\n",
    "    print(f\"\\n{'='*60}\")\n",
    "    print(f\"📝 Query: {query}\")\n",
    "    print(f\"{'='*60}\\n\")\n",
    "    \n",
    "    result = app.invoke(initial_state, config)\n",
    "    \n",
    "    # Display final result\n",
    "    print(f\"\\n{'='*60}\")\n",
    "    print(\"✅ Final Response:\")\n",
    "    print(f\"{'='*60}\")\n",
    "    print(result[\"result\"])\n",
    "    print(f\"{'='*60}\\n\")\n",
    "    \n",
    "    return result\n",
    "\n",
    "print(\"✅ Helper functions ready\")"
   ]
  },
  {
   "cell_type": "markdown",
   "metadata": {},
   "source": [
    "## 7. Example Usage"
   ]
  },
  {
   "cell_type": "markdown",
   "metadata": {},
   "source": [
    "### Example 1: Simple Calculation"
   ]
  },
  {
   "cell_type": "code",
   "execution_count": 8,
   "metadata": {},
   "outputs": [
    {
     "data": {
      "text/markdown": [
       "### 🤖 Tool Execution Request"
      ],
      "text/plain": [
       "<IPython.core.display.Markdown object>"
      ]
     },
     "metadata": {},
     "output_type": "display_data"
    },
    {
     "data": {
      "text/markdown": [
       "**Tool:** calculator"
      ],
      "text/plain": [
       "<IPython.core.display.Markdown object>"
      ]
     },
     "metadata": {},
     "output_type": "display_data"
    },
    {
     "data": {
      "text/markdown": [
       "**Arguments:** {'expression': '47 * 23'}"
      ],
      "text/plain": [
       "<IPython.core.display.Markdown object>"
      ]
     },
     "metadata": {},
     "output_type": "display_data"
    },
    {
     "data": {
      "text/markdown": [
       "---"
      ],
      "text/plain": [
       "<IPython.core.display.Markdown object>"
      ]
     },
     "metadata": {},
     "output_type": "display_data"
    },
    {
     "name": "stdout",
     "output_type": "stream",
     "text": [
      "\n",
      "============================================================\n",
      "✅ Final Response:\n",
      "============================================================\n",
      "The product of 47 and 23 is 1,081.\n",
      "============================================================\n",
      "\n"
     ]
    }
   ],
   "source": [
    "# Test with a math question that requires calculator\n",
    "result = run_calculator_assistant(\"What is 47 * 23?\")"
   ]
  },
  {
   "cell_type": "markdown",
   "metadata": {},
   "source": [
    "### Example 2: Complex Calculation"
   ]
  },
  {
   "cell_type": "code",
   "execution_count": 9,
   "metadata": {},
   "outputs": [
    {
     "data": {
      "text/markdown": [
       "### 🤖 Tool Execution Request"
      ],
      "text/plain": [
       "<IPython.core.display.Markdown object>"
      ]
     },
     "metadata": {},
     "output_type": "display_data"
    },
    {
     "data": {
      "text/markdown": [
       "**Tool:** calculator"
      ],
      "text/plain": [
       "<IPython.core.display.Markdown object>"
      ]
     },
     "metadata": {},
     "output_type": "display_data"
    },
    {
     "data": {
      "text/markdown": [
       "**Arguments:** {'expression': '1250 / 7'}"
      ],
      "text/plain": [
       "<IPython.core.display.Markdown object>"
      ]
     },
     "metadata": {},
     "output_type": "display_data"
    },
    {
     "data": {
      "text/markdown": [
       "---"
      ],
      "text/plain": [
       "<IPython.core.display.Markdown object>"
      ]
     },
     "metadata": {},
     "output_type": "display_data"
    },
    {
     "name": "stdout",
     "output_type": "stream",
     "text": [
      "\n",
      "============================================================\n",
      "✅ Final Response:\n",
      "============================================================\n",
      "To find out how much each person gets, you can divide $1250 by 7. \n",
      "\n",
      "Calculating that gives:\n",
      "\n",
      "\\[\n",
      "1250 \\div 7 \\approx 178.57\n",
      "\\]\n",
      "\n",
      "So, each person would get approximately $178.57.\n",
      "============================================================\n",
      "\n"
     ]
    }
   ],
   "source": [
    "# Test with a more complex calculation\n",
    "result = run_calculator_assistant(\"If I have $1250 and I need to split it equally among 7 people, how much does each person get?\")"
   ]
  },
  {
   "cell_type": "markdown",
   "metadata": {},
   "source": [
    "### Example 3: Non-Calculator Question"
   ]
  },
  {
   "cell_type": "code",
   "execution_count": 10,
   "metadata": {},
   "outputs": [
    {
     "name": "stdout",
     "output_type": "stream",
     "text": [
      "\n",
      "============================================================\n",
      "📝 Query: What is the capital of France?\n",
      "============================================================\n",
      "\n",
      "\n",
      "============================================================\n",
      "✅ Final Response:\n",
      "============================================================\n",
      "The capital of France is Paris.\n",
      "============================================================\n",
      "\n"
     ]
    }
   ],
   "source": [
    "# Test with a question that doesn't need calculator\n",
    "result = run_calculator_assistant(\"What is the capital of France?\")"
   ]
  },
  {
   "cell_type": "markdown",
   "metadata": {},
   "source": [
    "### Example 4: Word Problem"
   ]
  },
  {
   "cell_type": "code",
   "execution_count": 11,
   "metadata": {},
   "outputs": [
    {
     "data": {
      "text/markdown": [
       "### 🤖 Tool Execution Request"
      ],
      "text/plain": [
       "<IPython.core.display.Markdown object>"
      ]
     },
     "metadata": {},
     "output_type": "display_data"
    },
    {
     "data": {
      "text/markdown": [
       "**Tool:** calculator"
      ],
      "text/plain": [
       "<IPython.core.display.Markdown object>"
      ]
     },
     "metadata": {},
     "output_type": "display_data"
    },
    {
     "data": {
      "text/markdown": [
       "**Arguments:** {'expression': '60 * 2.5'}"
      ],
      "text/plain": [
       "<IPython.core.display.Markdown object>"
      ]
     },
     "metadata": {},
     "output_type": "display_data"
    },
    {
     "data": {
      "text/markdown": [
       "---"
      ],
      "text/plain": [
       "<IPython.core.display.Markdown object>"
      ]
     },
     "metadata": {},
     "output_type": "display_data"
    },
    {
     "name": "stdout",
     "output_type": "stream",
     "text": [
      "\n",
      "============================================================\n",
      "✅ Final Response:\n",
      "============================================================\n",
      "To find the distance traveled by the train, you can use the formula:\n",
      "\n",
      "\\[\n",
      "\\text{Distance} = \\text{Speed} \\times \\text{Time}\n",
      "\\]\n",
      "\n",
      "In this case, the speed is 60 mph and the time is 2.5 hours. \n",
      "\n",
      "Calculating that gives:\n",
      "\n",
      "\\[\n",
      "60 \\times 2.5 = 150\n",
      "\\]\n",
      "\n",
      "So, the train travels 150 miles.\n",
      "============================================================\n",
      "\n"
     ]
    }
   ],
   "source": [
    "# Test with a word problem\n",
    "result = run_calculator_assistant(\n",
    "    \"A train travels at 60 mph for 2.5 hours. How far does it travel?\"\n",
    ")"
   ]
  },
  {
   "cell_type": "markdown",
   "metadata": {},
   "source": [
    "## 8. Interactive Session"
   ]
  },
  {
   "cell_type": "code",
   "execution_count": 12,
   "metadata": {},
   "outputs": [],
   "source": [
    "def interactive_session():\n",
    "    \"\"\"Run an interactive HITL calculator session\"\"\"\n",
    "    print(\"🤖 HITL Calculator Assistant\")\n",
    "    print(\"Type 'quit' to exit\\n\")\n",
    "    \n",
    "    session_id = f\"session_{datetime.now().strftime('%Y%m%d_%H%M%S')}\"\n",
    "    \n",
    "    while True:\n",
    "        query = input(\"\\nYou: \").strip()\n",
    "        \n",
    "        if query.lower() in ['quit', 'exit', 'bye']:\n",
    "            print(\"👋 Goodbye!\")\n",
    "            break\n",
    "        \n",
    "        if not query:\n",
    "            continue\n",
    "        \n",
    "        try:\n",
    "            run_calculator_assistant(query, thread_id=session_id)\n",
    "        except KeyboardInterrupt:\n",
    "            print(\"\\n⚠️ Interrupted\")\n",
    "            continue\n",
    "        except Exception as e:\n",
    "            print(f\"\\n❌ Error: {e}\")\n",
    "            continue\n",
    "\n",
    "# Uncomment to run interactive session\n",
    "# interactive_session()"
   ]
  },
  {
   "cell_type": "markdown",
   "metadata": {},
   "source": [
    "## 9. Test Suite"
   ]
  },
  {
   "cell_type": "code",
   "execution_count": 13,
   "metadata": {},
   "outputs": [
    {
     "name": "stdout",
     "output_type": "stream",
     "text": [
      "🧪 Running Test Suite\n",
      "\n",
      "Test: What is 2 + 2?\n",
      "Expected to use calculator: True\n",
      "✅ PASSED\n",
      "\n",
      "Test: Calculate 15% of 200\n",
      "Expected to use calculator: True\n",
      "✅ PASSED\n",
      "\n",
      "Test: What's the weather like?\n",
      "Expected to use calculator: False\n",
      "✅ PASSED\n",
      "\n",
      "🎉 Test suite completed!\n"
     ]
    }
   ],
   "source": [
    "def run_tests():\n",
    "    \"\"\"Run automated tests (simulating human approval)\"\"\"\n",
    "    test_cases = [\n",
    "        (\"What is 2 + 2?\", True),  # Should trigger calculator\n",
    "        (\"Calculate 15% of 200\", True),  # Should trigger calculator\n",
    "        (\"What's the weather like?\", False),  # Should NOT trigger calculator\n",
    "    ]\n",
    "    \n",
    "    print(\"🧪 Running Test Suite\\n\")\n",
    "    \n",
    "    for query, should_use_calculator in test_cases:\n",
    "        print(f\"Test: {query}\")\n",
    "        print(f\"Expected to use calculator: {should_use_calculator}\")\n",
    "        \n",
    "        # Create a test state\n",
    "        test_state = {\n",
    "            \"messages\": [\n",
    "                SystemMessage(content=\"You are a helpful assistant with access to a calculator.\"),\n",
    "                HumanMessage(content=query)\n",
    "            ],\n",
    "            \"user_query\": query,\n",
    "            \"pending_tool_call\": None,\n",
    "            \"human_approval\": None,\n",
    "            \"result\": None,\n",
    "            \"cost\": None\n",
    "        }\n",
    "        \n",
    "        # Process query\n",
    "        result = process_query(test_state)\n",
    "        used_calculator = result.get(\"pending_tool_call\") is not None\n",
    "        \n",
    "        if used_calculator == should_use_calculator:\n",
    "            print(\"✅ PASSED\\n\")\n",
    "        else:\n",
    "            print(\"❌ FAILED\\n\")\n",
    "    \n",
    "    print(\"🎉 Test suite completed!\")\n",
    "\n",
    "# Run tests\n",
    "run_tests()"
   ]
  },
  {
   "cell_type": "markdown",
   "metadata": {},
   "source": [
    "## Summary\n",
    "\n",
    "This notebook demonstrates a complete Human-in-the-Loop workflow with LangGraph featuring:\n",
    "\n",
    "1. **Pydantic v2 State Management**: Strongly typed state using `GraphState` TypedDict\n",
    "2. **Calculator Tool**: Safe mathematical expression evaluation\n",
    "3. **HITL Approval Flow**: Human review before tool execution\n",
    "4. **Conditional Routing**: Smart graph edges based on state\n",
    "5. **Memory/Checkpointing**: Session persistence with `MemorySaver`\n",
    "6. **Interactive Interface**: User-friendly prompts for approval/rejection\n",
    "\n",
    "The system:\n",
    "- Detects when calculator is needed based on user query\n",
    "- Prompts for human approval before executing calculations\n",
    "- Handles both approved and rejected tool calls gracefully\n",
    "- Maintains conversation context throughout the session"
   ]
  }
 ],
 "metadata": {
  "kernelspec": {
   "display_name": "ai-agents-demo",
   "language": "python",
   "name": "python3"
  },
  "language_info": {
   "codemirror_mode": {
    "name": "ipython",
    "version": 3
   },
   "file_extension": ".py",
   "mimetype": "text/x-python",
   "name": "python",
   "nbconvert_exporter": "python",
   "pygments_lexer": "ipython3",
   "version": "3.12.11"
  }
 },
 "nbformat": 4,
 "nbformat_minor": 4
}
